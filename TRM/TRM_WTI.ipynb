{
 "cells": [
  {
   "cell_type": "markdown",
   "metadata": {},
   "source": [
    "# Simple Linear Regression\n",
    "Developed by Cristian Quintero and Vinco SAS\n",
    "  \n",
    "    Basically having 19 macroeconomic variables data, like this:\n",
    "    - TRM        : (Tasa Representativa del Mercado, by spanish meaning), some like USD/COP price\n",
    "    - BRENT      : BRENT Futures prices\n",
    "    - DXY        : Dollar index, front other currrencies\n",
    "    - LEMB       : Local Emerging Market Bonds Index (ETF)\n",
    "    - US2Y       : TES 2 years yield (USA)\n",
    "    - ORO        : Futures Gold prices\n",
    "    - S&P500     : Standar & Poors Index\n",
    "    - US10Y      : TES 10 years yield(USA)\n",
    "    - TES24      : Colombian Soverign Bonds 24\n",
    "    - CEW        : WisdomTree Emerging Currency Strategy Fund (ETF) - composed by emerging currency rates\n",
    "    - WTI        : WTI Futures price\n",
    "    - USDEUR     : USD/EUR pair currency price\n",
    "    - DAX        : Frankfort (Germany) stock market index\n",
    "    - GE10Y      : German 10 years Bond yield\n",
    "    - GE2Y       : German 2 years Bond yield\n",
    "    - USDJPY     : USD/JPY pair currency price\n",
    "    - NIKKEI225  : Tokio (Japan) stock market index\n",
    "    - JP20Y      : Japanese 20 years Bond yield\n",
    "    - JP2Y       : Japanese 2 years Bond yield\n",
    "    \n",
    "    We could calculate a simple linear regression which letting us get the TRM behaviour in front of all other variables"
   ]
  },
  {
   "cell_type": "code",
   "execution_count": 33,
   "metadata": {},
   "outputs": [],
   "source": [
    "import pandas as pd\n",
    "import numpy as np\n",
    "from sklearn import linear_model\n",
    "from sklearn.metrics import mean_squared_error, r2_score\n",
    "import math\n",
    "import matplotlib.pyplot as plt"
   ]
  },
  {
   "cell_type": "code",
   "execution_count": 5,
   "metadata": {},
   "outputs": [],
   "source": [
    "# Lectura de las variables a utilizar en la regresion lineal\n",
    "# Fecha # TRM # BRENT # DXY # LEMB # US2Y # ORO # S&P500 # US10Y # TES24\n",
    "# CEW # WTI # USDEUR # DAX # GE10Y # GE2Y # USDJPY # NIKKEI225 # JP20Y\n",
    "# JP2Y\n",
    "datos = pd.read_excel('Datos.xlsx','Datos')\n",
    "datos_test = pd.read_excel('Datos_test.xlsx','Datos')"
   ]
  },
  {
   "cell_type": "code",
   "execution_count": 59,
   "metadata": {},
   "outputs": [
    {
     "data": {
      "text/plain": [
       "LinearRegression(copy_X=True, fit_intercept=True, n_jobs=1, normalize=False)"
      ]
     },
     "execution_count": 59,
     "metadata": {},
     "output_type": "execute_result"
    }
   ],
   "source": [
    "regression = linear_model.LinearRegression()\n",
    "y = datos['TRM'].values\n",
    "x = datos['WTI'].values[:,np.newaxis]\n",
    "regression.fit(x, y)\n",
    "#print(regression)"
   ]
  },
  {
   "cell_type": "code",
   "execution_count": 64,
   "metadata": {},
   "outputs": [
    {
     "name": "stdout",
     "output_type": "stream",
     "text": [
      "* Coeficientes: \n",
      " [-25.31974519]\n",
      "* MSE (Mean Square Error): 131450.87\n",
      "  -                square: 362.56\n",
      "* R explained variance   : -18.62\n"
     ]
    }
   ],
   "source": [
    "x_test = datos_test['WTI'].values[:,np.newaxis]\n",
    "y_test = regression.predict(x_test)\n",
    "regression_coef = regression.coef_\n",
    "mse = mean_squared_error(y_test, y[-len(y_test):])\n",
    "r2_explained_variance = r2_score(y_test, y[-len(y_test):])\n",
    "\n",
    "print('* Coeficientes: \\n',regression_coef)\n",
    "print('* MSE (Mean Square Error): %.2f' %  mse)\n",
    "print('  -                square: %.2f' %  math.sqrt(mse))\n",
    "print('* R explained variance   : %.2f' %  r2_explained_variance)\n"
   ]
  },
  {
   "cell_type": "code",
   "execution_count": 57,
   "metadata": {},
   "outputs": [
    {
     "data": {
      "image/png": "[encoded data removed]",
      "text/plain": [
       "<matplotlib.figure.Figure at 0x7f07405b94e0>"
      ]
     },
     "metadata": {},
     "output_type": "display_data"
    }
   ],
   "source": [
    "plt.scatter(x, y, color='red', s=1)\n",
    "plt.scatter(x_test, y_test, color='blue', s=1)\n",
    "plt.ylabel(\"TRM\")\n",
    "plt.xlabel(\"WTI\")\n",
    "plt.show()"
   ]
  },
  {
   "cell_type": "code",
   "execution_count": null,
   "metadata": {},
   "outputs": [],
   "source": []
  }
 ],
 "metadata": {
  "kernelspec": {
   "display_name": "Python 3",
   "language": "python",
   "name": "python3"
  },
  "language_info": {
   "codemirror_mode": {
    "name": "ipython",
    "version": 3
   },
   "file_extension": ".py",
   "mimetype": "text/x-python",
   "name": "python",
   "nbconvert_exporter": "python",
   "pygments_lexer": "ipython3",
   "version": "3.5.2"
  }
 },
 "nbformat": 4,
 "nbformat_minor": 2
}

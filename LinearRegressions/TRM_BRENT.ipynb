{
 "cells": [
  {
   "cell_type": "markdown",
   "metadata": {},
   "source": [
    "# Simple Linear Regression TRM-BRENT\n",
    "Developed by Cristian Quintero\n",
    "\n",
    "In Colombia, oil prices have been recently related with TRM (Tasa Representativa del mercado), or is same, USD/COP price, in special after oil bonanza, at 2010 beginning. Today the oil price have experienced a downforward way, recentlly with slow recovering.\n",
    "\n",
    "Here a small regression analysis to see if the correlation among TRM and BRENT Future prices have relevance."
   ]
  },
  {
   "cell_type": "markdown",
   "metadata": {},
   "source": [
    "First, as any regression made in python, we have to import some libraries. In this case we will import the basic pandas and numpy libraries. After we will use sklearn to get access to linear_model class which is in charge of calculate the linear regression."
   ]
  },
  {
   "cell_type": "code",
   "execution_count": 1,
   "metadata": {},
   "outputs": [
    {
     "name": "stderr",
     "output_type": "stream",
     "text": [
      "/usr/local/lib/python3.5/dist-packages/statsmodels/compat/pandas.py:56: FutureWarning: The pandas.core.datetools module is deprecated and will be removed in a future version. Please use the pandas.tseries module instead.\n",
      "  from pandas.core import datetools\n"
     ]
    }
   ],
   "source": [
    "import pandas as pd\n",
    "import numpy as np\n",
    "from sklearn import linear_model\n",
    "from sklearn.metrics import mean_squared_error\n",
    "import math\n",
    "import matplotlib.pyplot as plt\n",
    "import statsmodels.api as sm"
   ]
  },
  {
   "cell_type": "markdown",
   "metadata": {},
   "source": [
    "Now, we will import BRENT and TRM data, which are into Datos.xlsx and Datos_test.xlsx files. The first one is the data to get the regression parameters, and second one is to test the regression. The data are between 2014/10/24 and 2017/11/04."
   ]
  },
  {
   "cell_type": "code",
   "execution_count": 2,
   "metadata": {},
   "outputs": [],
   "source": [
    "# Lectura de las variables a utilizar en la regresion lineal\n",
    "data_all = pd.read_excel('../data_source/Datos.xlsx','Datos')\n",
    "test_cnt_data = 50\n",
    "cnt_data = len(data_all)\n",
    "data = data_all.tail(cnt_data - test_cnt_data)\n",
    "data_test = data_all.head(test_cnt_data)\n",
    "label_x = 'BRENT'"
   ]
  },
  {
   "cell_type": "markdown",
   "metadata": {},
   "source": [
    "Using linear_model, calculate regression using OLS. To get more information about it, see [linear_model](http://scikit-learn.org/stable/modules/generated/sklearn.linear_model.LinearRegression.html#sklearn.linear_model.LinearRegression)."
   ]
  },
  {
   "cell_type": "code",
   "execution_count": 3,
   "metadata": {},
   "outputs": [
    {
     "data": {
      "text/html": [
       "<table class=\"simpletable\">\n",
       "<caption>OLS Regression Results</caption>\n",
       "<tr>\n",
       "  <th>Dep. Variable:</th>            <td>y</td>        <th>  R-squared:         </th> <td>   0.624</td> \n",
       "</tr>\n",
       "<tr>\n",
       "  <th>Model:</th>                   <td>OLS</td>       <th>  Adj. R-squared:    </th> <td>   0.624</td> \n",
       "</tr>\n",
       "<tr>\n",
       "  <th>Method:</th>             <td>Least Squares</td>  <th>  F-statistic:       </th> <td>   1376.</td> \n",
       "</tr>\n",
       "<tr>\n",
       "  <th>Date:</th>             <td>Sun, 04 Feb 2018</td> <th>  Prob (F-statistic):</th> <td>2.63e-178</td>\n",
       "</tr>\n",
       "<tr>\n",
       "  <th>Time:</th>                 <td>16:48:59</td>     <th>  Log-Likelihood:    </th> <td> -5447.6</td> \n",
       "</tr>\n",
       "<tr>\n",
       "  <th>No. Observations:</th>      <td>   831</td>      <th>  AIC:               </th> <td>1.090e+04</td>\n",
       "</tr>\n",
       "<tr>\n",
       "  <th>Df Residuals:</th>          <td>   829</td>      <th>  BIC:               </th> <td>1.091e+04</td>\n",
       "</tr>\n",
       "<tr>\n",
       "  <th>Df Model:</th>              <td>     1</td>      <th>                     </th>     <td> </td>    \n",
       "</tr>\n",
       "<tr>\n",
       "  <th>Covariance Type:</th>      <td>nonrobust</td>    <th>                     </th>     <td> </td>    \n",
       "</tr>\n",
       "</table>\n",
       "<table class=\"simpletable\">\n",
       "<tr>\n",
       "    <td></td>       <th>coef</th>     <th>std err</th>      <th>t</th>      <th>P>|t|</th>  <th>[0.025</th>    <th>0.975]</th>  \n",
       "</tr>\n",
       "<tr>\n",
       "  <th>const</th> <td> 4025.1685</td> <td>   31.508</td> <td>  127.751</td> <td> 0.000</td> <td> 3963.324</td> <td> 4087.013</td>\n",
       "</tr>\n",
       "<tr>\n",
       "  <th>x1</th>    <td>  -21.7673</td> <td>    0.587</td> <td>  -37.098</td> <td> 0.000</td> <td>  -22.919</td> <td>  -20.616</td>\n",
       "</tr>\n",
       "</table>\n",
       "<table class=\"simpletable\">\n",
       "<tr>\n",
       "  <th>Omnibus:</th>       <td>103.940</td> <th>  Durbin-Watson:     </th> <td>   0.049</td>\n",
       "</tr>\n",
       "<tr>\n",
       "  <th>Prob(Omnibus):</th> <td> 0.000</td>  <th>  Jarque-Bera (JB):  </th> <td> 215.586</td>\n",
       "</tr>\n",
       "<tr>\n",
       "  <th>Skew:</th>          <td>-0.734</td>  <th>  Prob(JB):          </th> <td>1.53e-47</td>\n",
       "</tr>\n",
       "<tr>\n",
       "  <th>Kurtosis:</th>      <td> 5.018</td>  <th>  Cond. No.          </th> <td>    286.</td>\n",
       "</tr>\n",
       "</table>"
      ],
      "text/plain": [
       "<class 'statsmodels.iolib.summary.Summary'>\n",
       "\"\"\"\n",
       "                            OLS Regression Results                            \n",
       "==============================================================================\n",
       "Dep. Variable:                      y   R-squared:                       0.624\n",
       "Model:                            OLS   Adj. R-squared:                  0.624\n",
       "Method:                 Least Squares   F-statistic:                     1376.\n",
       "Date:                Sun, 04 Feb 2018   Prob (F-statistic):          2.63e-178\n",
       "Time:                        16:48:59   Log-Likelihood:                -5447.6\n",
       "No. Observations:                 831   AIC:                         1.090e+04\n",
       "Df Residuals:                     829   BIC:                         1.091e+04\n",
       "Df Model:                           1                                         \n",
       "Covariance Type:            nonrobust                                         \n",
       "==============================================================================\n",
       "                 coef    std err          t      P>|t|      [0.025      0.975]\n",
       "------------------------------------------------------------------------------\n",
       "const       4025.1685     31.508    127.751      0.000    3963.324    4087.013\n",
       "x1           -21.7673      0.587    -37.098      0.000     -22.919     -20.616\n",
       "==============================================================================\n",
       "Omnibus:                      103.940   Durbin-Watson:                   0.049\n",
       "Prob(Omnibus):                  0.000   Jarque-Bera (JB):              215.586\n",
       "Skew:                          -0.734   Prob(JB):                     1.53e-47\n",
       "Kurtosis:                       5.018   Cond. No.                         286.\n",
       "==============================================================================\n",
       "\n",
       "Warnings:\n",
       "[1] Standard Errors assume that the covariance matrix of the errors is correctly specified.\n",
       "\"\"\""
      ]
     },
     "execution_count": 3,
     "metadata": {},
     "output_type": "execute_result"
    }
   ],
   "source": [
    "y = data['TRM'].values\n",
    "x = data[label_x].values\n",
    "x = sm.add_constant(x)\n",
    "\n",
    "# Note the difference in argument order\n",
    "model = sm.OLS(y, x).fit()\n",
    "predictions = model.predict(x) # make the predictions by the model\n",
    "\n",
    "# Return X to original matrix\n",
    "x = x[:,1:2].T[0]\n",
    "\n",
    "# Print out the statistics\n",
    "model.summary()"
   ]
  },
  {
   "cell_type": "markdown",
   "metadata": {},
   "source": [
    "Now we will predict TRM values taking in count the regression coefficients, over test values got above."
   ]
  },
  {
   "cell_type": "code",
   "execution_count": 4,
   "metadata": {},
   "outputs": [
    {
     "name": "stdout",
     "output_type": "stream",
     "text": [
      "* MSE (Mean Square Error) : 131094.85\n",
      "  -      square root(mse) : 362.07\n"
     ]
    }
   ],
   "source": [
    "x_test = data_test[label_x].values\n",
    "y_test = model.predict(sm.add_constant(x_test))\n",
    "mse = mean_squared_error(y_test, y[-len(y_test):])\n",
    "print('* MSE (Mean Square Error) : %.2f' %  mse)\n",
    "print('  -      square root(mse) : %.2f' %  math.sqrt(mse))"
   ]
  },
  {
   "cell_type": "markdown",
   "metadata": {},
   "source": [
    "After we had gotten the TRM predicted values, we can plot the result, and see how the regression result adjust to the initial values."
   ]
  },
  {
   "cell_type": "code",
   "execution_count": 5,
   "metadata": {},
   "outputs": [
    {
     "data": {
      "image/png": "[encoded data removed]",
      "text/plain": [
       "<matplotlib.figure.Figure at 0x7fd6bd9185f8>"
      ]
     },
     "metadata": {},
     "output_type": "display_data"
    }
   ],
   "source": [
    "plt.scatter(x, y, color='red', s=1)\n",
    "plt.scatter(x_test, y_test, color='blue', s=1)\n",
    "plt.ylabel(\"TRM\")\n",
    "plt.xlabel(label_x)\n",
    "plt.show()"
   ]
  },
  {
   "cell_type": "markdown",
   "metadata": {},
   "source": [
    "Dots in red color are observations which we had into --Datos.xlsx-- file, while blue dots are the prediction using the --Datos_test.xlsx-- data, after calculate coefficients with linear_model library. As you can see, the predictions take a line form but is delimited by predictions range values."
   ]
  },
  {
   "cell_type": "code",
   "execution_count": 6,
   "metadata": {},
   "outputs": [
    {
     "data": {
      "image/png": "[encoded data removed]",
      "text/plain": [
       "<matplotlib.figure.Figure at 0x7fd6bb7cae80>"
      ]
     },
     "metadata": {},
     "output_type": "display_data"
    }
   ],
   "source": [
    "plt.scatter(x, y, color='red', s=1)\n",
    "plt.plot(x, model.predict(sm.add_constant(x)), color='blue', linewidth=1)\n",
    "plt.ylabel(\"TRM\")\n",
    "plt.xlabel(label_x)\n",
    "plt.show()"
   ]
  },
  {
   "cell_type": "markdown",
   "metadata": {},
   "source": [
    "__Conclusion__ The TRM level has inverse relationship with BRENT futures price. This could have sense because in moments when oil has high levels, external funds arrive to Colombia, as portfolio investing in extract oil projects, otherwise when price oil level go downward and external economic variables hold either good or constant perspectives, foreign funds go out colombian economy to hold cost effectiveness."
   ]
  },
  {
   "cell_type": "markdown",
   "metadata": {},
   "source": [
    "__Note__ The coefficient result, is not a really true value which indicate absolute value of increment or decrement way, but can be used as reference to see which way will take TRM based on explanatory variable price movements."
   ]
  }
 ],
 "metadata": {
  "kernelspec": {
   "display_name": "Python 3",
   "language": "python",
   "name": "python3"
  },
  "language_info": {
   "codemirror_mode": {
    "name": "ipython",
    "version": 3
   },
   "file_extension": ".py",
   "mimetype": "text/x-python",
   "name": "python",
   "nbconvert_exporter": "python",
   "pygments_lexer": "ipython3",
   "version": "3.5.2"
  }
 },
 "nbformat": 4,
 "nbformat_minor": 2
}

{
 "cells": [
  {
   "cell_type": "code",
   "execution_count": null,
   "metadata": {},
   "outputs": [],
   "source": [
    "import requests\n",
    "from bs4 import BeautifulSoup\n",
    "import pandas as pd\n",
    "import locale\n",
    "import datetime"
   ]
  },
  {
   "cell_type": "code",
   "execution_count": null,
   "metadata": {},
   "outputs": [],
   "source": [
    "locale.getlocale()"
   ]
  },
  {
   "cell_type": "markdown",
   "metadata": {},
   "source": [
    "Se crea la sesión para las solicitudes a CuandoEnElMundo"
   ]
  },
  {
   "cell_type": "code",
   "execution_count": null,
   "metadata": {},
   "outputs": [],
   "source": [
    "sesion = requests.Session()"
   ]
  },
  {
   "cell_type": "code",
   "execution_count": null,
   "metadata": {},
   "outputs": [],
   "source": [
    "def obtener_dias_festivos(sesion, anio, pais='colombia'):\n",
    "    url_ = 'https://www.cuandoenelmundo.com/calendario/{pais}/{anio}'.format(pais=pais,anio=anio)\n",
    "    print(url_)\n",
    "    result_ = sesion.get(url_)\n",
    "    soup = BeautifulSoup(result_.content, 'html.parser')\n",
    "    festivos_ = soup.find_all('div',{\"class\": \"hdays\"})\n",
    "    tablas_festivos = festivos_[0].find_all('table',{'class':'hdays'})\n",
    "    df_dias_festivos = pd.DataFrame(columns=['año','mes','día', 'pais', 'url'])\n",
    "    for tabla_i in range(len(tablas_festivos)):\n",
    "        registros_ = tablas_festivos[tabla_i].find_all('tr')\n",
    "        for registro_i in range(len(registros_)):\n",
    "            dia_ = registros_[registro_i].find_all('td',{'class':'day redday'})\n",
    "            mes_ = registros_[registro_i].find_all('td',{'class':'month redday'})\n",
    "            if len(dia_) > 0:\n",
    "                dia_ = dia_[0].text\n",
    "            if len(mes_) > 0:\n",
    "                mes_ = mes_[0].text\n",
    "            if (len(dia_) > 0) & (len(mes_) > 0):\n",
    "                df_dias_festivos.loc[len(df_dias_festivos)] = [anio,mes_,dia_, pais, url_]\n",
    "    \n",
    "    temporal_locale = locale.getlocale()\n",
    "    locale.setlocale(locale.LC_TIME, 'es_ES.UTF-8')\n",
    "    df_dias_festivos['Fecha'] = df_dias_festivos.apply(lambda x: pd.to_datetime(str(x['año'])+x['mes']+str(x['día']).rjust(2,'0'), format='%Y%B%d'), axis=1)\n",
    "    locale.setlocale(locale.LC_TIME, temporal_locale[0]+'.'+temporal_locale[1])\n",
    "    return df_dias_festivos"
   ]
  },
  {
   "cell_type": "code",
   "execution_count": null,
   "metadata": {},
   "outputs": [],
   "source": [
    "resultado_ = None\n",
    "desde_ = 2000\n",
    "hasta_ = 2020\n",
    "for anio_i in list(range(desde_,hasta_+1)):\n",
    "    print(anio_i)\n",
    "    t_ = obtener_dias_festivos(sesion=sesion, anio=anio_i)\n",
    "    if resultado_ is None:\n",
    "        resultado_ = t_\n",
    "    else:\n",
    "        resultado_ = pd.concat([resultado_,t_])\n",
    "    t_ = None"
   ]
  },
  {
   "cell_type": "code",
   "execution_count": null,
   "metadata": {},
   "outputs": [],
   "source": [
    "resultado_.tail()"
   ]
  },
  {
   "cell_type": "code",
   "execution_count": null,
   "metadata": {},
   "outputs": [],
   "source": [
    "resultado_.to_excel('dias_festivos_'+str(desde_)+'_'+str(hasta_)+'.xlsx', index=False)"
   ]
  },
  {
   "cell_type": "code",
   "execution_count": null,
   "metadata": {},
   "outputs": [],
   "source": [
    "requests.session().close()"
   ]
  }
 ],
 "metadata": {
  "kernelspec": {
   "display_name": "Python 3",
   "language": "python",
   "name": "python3"
  },
  "language_info": {
   "codemirror_mode": {
    "name": "ipython",
    "version": 3
   },
   "file_extension": ".py",
   "mimetype": "text/x-python",
   "name": "python",
   "nbconvert_exporter": "python",
   "pygments_lexer": "ipython3",
   "version": "3.8.2"
  }
 },
 "nbformat": 4,
 "nbformat_minor": 4
}
